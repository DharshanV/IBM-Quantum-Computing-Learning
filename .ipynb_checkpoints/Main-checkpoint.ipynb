{
 "cells": [
  {
   "cell_type": "code",
   "execution_count": 25,
   "metadata": {},
   "outputs": [],
   "source": [
    "from qiskit import QuantumCircuit, execute, Aer\n",
    "from qiskit.visualization import plot_histogram\n",
    "%matplotlib inline"
   ]
  },
  {
   "cell_type": "code",
   "execution_count": 44,
   "metadata": {},
   "outputs": [
    {
     "data": {
      "text/html": [
       "<pre style=\"word-wrap: normal;white-space: pre;background: #fff0;line-height: 1.1;font-family: &quot;Courier New&quot;,Courier,monospace\">     ┌─┐                     \n",
       "q_0: ┤M├─────────────────────\n",
       "     └╥┘┌─┐                  \n",
       "q_1: ─╫─┤M├──────────────────\n",
       "      ║ └╥┘┌─┐               \n",
       "q_2: ─╫──╫─┤M├───────────────\n",
       "      ║  ║ └╥┘┌─┐            \n",
       "q_3: ─╫──╫──╫─┤M├────────────\n",
       "      ║  ║  ║ └╥┘┌─┐         \n",
       "q_4: ─╫──╫──╫──╫─┤M├─────────\n",
       "      ║  ║  ║  ║ └╥┘┌─┐      \n",
       "q_5: ─╫──╫──╫──╫──╫─┤M├──────\n",
       "      ║  ║  ║  ║  ║ └╥┘┌─┐   \n",
       "q_6: ─╫──╫──╫──╫──╫──╫─┤M├───\n",
       "      ║  ║  ║  ║  ║  ║ └╥┘┌─┐\n",
       "q_7: ─╫──╫──╫──╫──╫──╫──╫─┤M├\n",
       "      ║  ║  ║  ║  ║  ║  ║ └╥┘\n",
       "c: 8/═╩══╩══╩══╩══╩══╩══╩══╩═\n",
       "      0  1  2  3  4  5  6  7 </pre>"
      ],
      "text/plain": [
       "     ┌─┐                     \n",
       "q_0: ┤M├─────────────────────\n",
       "     └╥┘┌─┐                  \n",
       "q_1: ─╫─┤M├──────────────────\n",
       "      ║ └╥┘┌─┐               \n",
       "q_2: ─╫──╫─┤M├───────────────\n",
       "      ║  ║ └╥┘┌─┐            \n",
       "q_3: ─╫──╫──╫─┤M├────────────\n",
       "      ║  ║  ║ └╥┘┌─┐         \n",
       "q_4: ─╫──╫──╫──╫─┤M├─────────\n",
       "      ║  ║  ║  ║ └╥┘┌─┐      \n",
       "q_5: ─╫──╫──╫──╫──╫─┤M├──────\n",
       "      ║  ║  ║  ║  ║ └╥┘┌─┐   \n",
       "q_6: ─╫──╫──╫──╫──╫──╫─┤M├───\n",
       "      ║  ║  ║  ║  ║  ║ └╥┘┌─┐\n",
       "q_7: ─╫──╫──╫──╫──╫──╫──╫─┤M├\n",
       "      ║  ║  ║  ║  ║  ║  ║ └╥┘\n",
       "c: 8/═╩══╩══╩══╩══╩══╩══╩══╩═\n",
       "      0  1  2  3  4  5  6  7 "
      ]
     },
     "execution_count": 44,
     "metadata": {},
     "output_type": "execute_result"
    }
   ],
   "source": [
    "n = 8\n",
    "nqbits = n\n",
    "nbits = n\n",
    "outputCircuit = qiskit.QuantumCircuit(nqbits,nbits)\n",
    "\n",
    "for j in range(n):\n",
    "    outputCircuit.measure(j,j)\n",
    "\n",
    "outputCircuit.draw()"
   ]
  },
  {
   "cell_type": "code",
   "execution_count": 46,
   "metadata": {},
   "outputs": [
    {
     "data": {
      "text/html": [
       "<pre style=\"word-wrap: normal;white-space: pre;background: #fff0;line-height: 1.1;font-family: &quot;Courier New&quot;,Courier,monospace\">          \n",
       "q_0: ─────\n",
       "          \n",
       "q_1: ─────\n",
       "          \n",
       "q_2: ─────\n",
       "          \n",
       "q_3: ─────\n",
       "          \n",
       "q_4: ─────\n",
       "          \n",
       "q_5: ─────\n",
       "          \n",
       "q_6: ─────\n",
       "     ┌───┐\n",
       "q_7: ┤ X ├\n",
       "     └───┘</pre>"
      ],
      "text/plain": [
       "          \n",
       "q_0: ─────\n",
       "          \n",
       "q_1: ─────\n",
       "          \n",
       "q_2: ─────\n",
       "          \n",
       "q_3: ─────\n",
       "          \n",
       "q_4: ─────\n",
       "          \n",
       "q_5: ─────\n",
       "          \n",
       "q_6: ─────\n",
       "     ┌───┐\n",
       "q_7: ┤ X ├\n",
       "     └───┘"
      ]
     },
     "execution_count": 46,
     "metadata": {},
     "output_type": "execute_result"
    }
   ],
   "source": [
    "encodeCircuit = QuantumCircuit(n)\n",
    "encodeCircuit.x(7)\n",
    "\n",
    "encodeCircuit.draw()"
   ]
  },
  {
   "cell_type": "code",
   "execution_count": 49,
   "metadata": {},
   "outputs": [
    {
     "data": {
      "text/html": [
       "<pre style=\"word-wrap: normal;white-space: pre;background: #fff0;line-height: 1.1;font-family: &quot;Courier New&quot;,Courier,monospace\">          ┌─┐                     \n",
       "q_0: ─────┤M├─────────────────────\n",
       "          └╥┘┌─┐                  \n",
       "q_1: ──────╫─┤M├──────────────────\n",
       "           ║ └╥┘┌─┐               \n",
       "q_2: ──────╫──╫─┤M├───────────────\n",
       "           ║  ║ └╥┘┌─┐            \n",
       "q_3: ──────╫──╫──╫─┤M├────────────\n",
       "           ║  ║  ║ └╥┘┌─┐         \n",
       "q_4: ──────╫──╫──╫──╫─┤M├─────────\n",
       "           ║  ║  ║  ║ └╥┘┌─┐      \n",
       "q_5: ──────╫──╫──╫──╫──╫─┤M├──────\n",
       "           ║  ║  ║  ║  ║ └╥┘┌─┐   \n",
       "q_6: ──────╫──╫──╫──╫──╫──╫─┤M├───\n",
       "     ┌───┐ ║  ║  ║  ║  ║  ║ └╥┘┌─┐\n",
       "q_7: ┤ X ├─╫──╫──╫──╫──╫──╫──╫─┤M├\n",
       "     └───┘ ║  ║  ║  ║  ║  ║  ║ └╥┘\n",
       "c: 8/══════╩══╩══╩══╩══╩══╩══╩══╩═\n",
       "           0  1  2  3  4  5  6  7 </pre>"
      ],
      "text/plain": [
       "          ┌─┐                     \n",
       "q_0: ─────┤M├─────────────────────\n",
       "          └╥┘┌─┐                  \n",
       "q_1: ──────╫─┤M├──────────────────\n",
       "           ║ └╥┘┌─┐               \n",
       "q_2: ──────╫──╫─┤M├───────────────\n",
       "           ║  ║ └╥┘┌─┐            \n",
       "q_3: ──────╫──╫──╫─┤M├────────────\n",
       "           ║  ║  ║ └╥┘┌─┐         \n",
       "q_4: ──────╫──╫──╫──╫─┤M├─────────\n",
       "           ║  ║  ║  ║ └╥┘┌─┐      \n",
       "q_5: ──────╫──╫──╫──╫──╫─┤M├──────\n",
       "           ║  ║  ║  ║  ║ └╥┘┌─┐   \n",
       "q_6: ──────╫──╫──╫──╫──╫──╫─┤M├───\n",
       "     ┌───┐ ║  ║  ║  ║  ║  ║ └╥┘┌─┐\n",
       "q_7: ┤ X ├─╫──╫──╫──╫──╫──╫──╫─┤M├\n",
       "     └───┘ ║  ║  ║  ║  ║  ║  ║ └╥┘\n",
       "c: 8/══════╩══╩══╩══╩══╩══╩══╩══╩═\n",
       "           0  1  2  3  4  5  6  7 "
      ]
     },
     "execution_count": 49,
     "metadata": {},
     "output_type": "execute_result"
    }
   ],
   "source": [
    "circuit = encodeCircuit + outputCircuit\n",
    "circuit.draw()"
   ]
  },
  {
   "cell_type": "code",
   "execution_count": 50,
   "metadata": {},
   "outputs": [
    {
     "data": {
      "image/png": "[encoded data removed]",
      "text/plain": [
       "<Figure size 504x360 with 1 Axes>"
      ]
     },
     "execution_count": 50,
     "metadata": {},
     "output_type": "execute_result"
    }
   ],
   "source": [
    "counts = execute(circuit,Aer.get_backend('qasm_simulator')).result().get_counts()\n",
    "plot_histogram(counts)"
   ]
  },
  {
   "cell_type": "code",
   "execution_count": null,
   "metadata": {},
   "outputs": [],
   "source": []
  }
 ],
 "metadata": {
  "kernelspec": {
   "display_name": "Python 3",
   "language": "python",
   "name": "python3"
  },
  "language_info": {
   "codemirror_mode": {
    "name": "ipython",
    "version": 3
   },
   "file_extension": ".py",
   "mimetype": "text/x-python",
   "name": "python",
   "nbconvert_exporter": "python",
   "pygments_lexer": "ipython3",
   "version": "3.8.2"
  }
 },
 "nbformat": 4,
 "nbformat_minor": 4
}
