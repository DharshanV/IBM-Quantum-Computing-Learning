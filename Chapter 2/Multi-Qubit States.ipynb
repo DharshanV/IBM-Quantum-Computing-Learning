{
 "metadata": {
  "language_info": {
   "codemirror_mode": {
    "name": "ipython",
    "version": 3
   },
   "file_extension": ".py",
   "mimetype": "text/x-python",
   "name": "python",
   "nbconvert_exporter": "python",
   "pygments_lexer": "ipython3",
   "version": "3.8.2-final"
  },
  "orig_nbformat": 2,
  "kernelspec": {
   "name": "python3",
   "display_name": "Python 3"
  }
 },
 "nbformat": 4,
 "nbformat_minor": 2,
 "cells": [
  {
   "cell_type": "code",
   "execution_count": null,
   "metadata": {},
   "outputs": [],
   "source": [
    "import qiskit\n",
    "from qiskit import QuantumCircuit, Aer, execute\n",
    "from qiskit.visualization import plot_bloch_multivector,plot_histogram\n",
    "import numpy as np\n",
    "from qiskit_textbook.tools import array_to_latex"
   ]
  },
  {
   "cell_type": "code",
   "execution_count": null,
   "metadata": {},
   "outputs": [],
   "source": [
    "backend = Aer.get_backend('statevector_simulator')"
   ]
  },
  {
   "cell_type": "code",
   "execution_count": null,
   "metadata": {
    "tags": []
   },
   "outputs": [],
   "source": [
    "circuit = QuantumCircuit(3)\n",
    "for qbit in range(3):\n",
    "    circuit.h(qbit)         #Puts all three qbits in superposition\n",
    "\n",
    "result = execute(circuit,backend).result()\n",
    "plot_bloch_multivector(result.get_statevector())"
   ]
  },
  {
   "cell_type": "code",
   "execution_count": null,
   "metadata": {
    "tags": []
   },
   "outputs": [],
   "source": [
    "circuit = QuantumCircuit(3)\n",
    "\n",
    "circuit.h(0)\n",
    "circuit.z(1)\n",
    "circuit.x(2)\n",
    "\n",
    "#Tensor product of U = XZH\n",
    "\n",
    "backend = Aer.get_backend('unitary_simulator')\n",
    "result = execute(circuit,backend).result()\n",
    "unitary = result.get_unitary()\n",
    "array_to_latex(unitary, pretext=\"\\\\text{Circuit = }\\n\")"
   ]
  },
  {
   "cell_type": "code",
   "execution_count": null,
   "metadata": {},
   "outputs": [],
   "source": [
    "circuit = QuantumCircuit(2)\n",
    "\n",
    "circuit.cx(0,1)         #cnot gate (controlled not gate)\n",
    "\n",
    "result = execute(circuit,backend).result()\n",
    "unitary = result.get_unitary()\n",
    "array_to_latex(unitary, pretext=\"\\\\text{Circuit = }\\n\")"
   ]
  },
  {
   "cell_type": "code",
   "execution_count": null,
   "metadata": {
    "tags": []
   },
   "outputs": [],
   "source": [
    "#Testing cnot gate on 4 cases\n",
    "from IPython.core.interactiveshell import InteractiveShell\n",
    "InteractiveShell.ast_node_interactivity = \"all\"\n",
    "\n",
    "backend = Aer.get_backend('statevector_simulator')\n",
    "\n",
    "cases = [   [[1,0],[1,0]],\n",
    "            [[1,0],[0,1]],\n",
    "            [[0,1],[1,0]],\n",
    "            [[0,1],[0,1]]\n",
    "        ]\n",
    "for case in cases:\n",
    "    circuit = QuantumCircuit(2)\n",
    "    circuit.initialize(case[0],1)\n",
    "    circuit.initialize(case[1],0)\n",
    "    circuit.cx(0,1)\n",
    "    circuit.measure_all()\n",
    "    plot_bloch_multivector(execute(circuit,backend).result().get_statevector())"
   ]
  }
 ]
}