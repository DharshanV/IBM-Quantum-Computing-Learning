{
 "metadata": {
  "language_info": {
   "codemirror_mode": {
    "name": "ipython",
    "version": 3
   },
   "file_extension": ".py",
   "mimetype": "text/x-python",
   "name": "python",
   "nbconvert_exporter": "python",
   "pygments_lexer": "ipython3",
   "version": "3.8.2-final"
  },
  "orig_nbformat": 2,
  "kernelspec": {
   "name": "python3",
   "display_name": "Python 3"
  }
 },
 "nbformat": 4,
 "nbformat_minor": 2,
 "cells": [
  {
   "cell_type": "code",
   "execution_count": null,
   "metadata": {},
   "outputs": [],
   "source": [
    "import qiskit\n",
    "from qiskit import QuantumCircuit, Aer, execute\n",
    "from qiskit.visualization import plot_bloch_multivector, plot_histogram\n",
    "from math import pi"
   ]
  },
  {
   "cell_type": "code",
   "execution_count": null,
   "metadata": {},
   "outputs": [],
   "source": [
    "backend = Aer.get_backend('statevector_simulator')"
   ]
  },
  {
   "cell_type": "code",
   "execution_count": null,
   "metadata": {
    "tags": []
   },
   "outputs": [],
   "source": [
    "#X - Gate\n",
    "circuit = QuantumCircuit(1)\n",
    "circuit.x(0)    #rotate by pi x-axis\n",
    "\n",
    "result = execute(circuit,backend).result()\n",
    "vector = result.get_statevector()\n",
    "plot_bloch_multivector(vector)"
   ]
  },
  {
   "cell_type": "code",
   "execution_count": null,
   "metadata": {},
   "outputs": [],
   "source": [
    "#Y - Gate\n",
    "circuit = QuantumCircuit(1)\n",
    "circuit.y(0)    #rotate by pi y-axis\n",
    "\n",
    "result = execute(circuit,backend).result()\n",
    "vector = result.get_statevector()\n",
    "plot_bloch_multivector(vector)"
   ]
  },
  {
   "cell_type": "code",
   "execution_count": null,
   "metadata": {
    "tags": []
   },
   "outputs": [],
   "source": [
    "#Z - Gate\n",
    "circuit = QuantumCircuit(1)\n",
    "circuit.z(0)    #rotate by pi z-axis\n",
    "\n",
    "result = execute(circuit,backend).result()\n",
    "vector = result.get_statevector()\n",
    "plot_bloch_multivector(vector)"
   ]
  },
  {
   "cell_type": "code",
   "execution_count": null,
   "metadata": {
    "tags": []
   },
   "outputs": [],
   "source": [
    "#H - Gate\n",
    "circuit = QuantumCircuit(1)\n",
    "circuit.h(0)\n",
    "\n",
    "result = execute(circuit,backend).result()\n",
    "vector = result.get_statevector()\n",
    "counts = result.get_counts()\n",
    "plot_histogram(counts)"
   ]
  },
  {
   "cell_type": "code",
   "execution_count": null,
   "metadata": {},
   "outputs": [],
   "source": [
    "def xMeasurement(circuit,qbit,cbit):\n",
    "    circuit.h(qbit)                 #Turn into X-basis\n",
    "    circuit.measure(qbit,cbit)      #Measure in X-basis and store the measurement in cbit\n",
    "    circuit.h(qbit)                 #turn back to Z-basis\n",
    "    return circuit\n",
    "\n",
    "circuit = QuantumCircuit(1,1)\n",
    "initalVector = [0,1]\n",
    "circuit.initialize(initalVector,0)\n",
    "xMeasurement(circuit,0,0)\n",
    "\n",
    "result = execute(circuit,backend).result()\n",
    "plot_bloch_multivector(result.get_statevector())    #All of your result state vector will either be in the from \n",
    "                                                    # |+> or |-> because this is our X basis"
   ]
  },
  {
   "cell_type": "code",
   "execution_count": null,
   "metadata": {},
   "outputs": [],
   "source": [
    "#Rz - gate (Rotation around Z-axis)\n",
    "#S and T gate are special cases of Rz. Where S = R(pi/2) and T = R(pi/4)\n",
    "circuit = QuantumCircuit(1)\n",
    "circuit.ry(3*pi/2,0)          #rotate |0> 3pi/2 on the y-axis =? Same as applying XH\n",
    "circuit.draw('mpl')\n",
    "\n",
    "result = execute(circuit,backend).result()\n",
    "counts = result.get_counts()\n",
    "plot_histogram(counts)\n",
    "plot_bloch_multivector(result.get_statevector())"
   ]
  },
  {
   "cell_type": "code",
   "execution_count": null,
   "metadata": {},
   "outputs": [],
   "source": []
  }
 ]
}